{
 "cells": [
  {
   "cell_type": "code",
   "execution_count": null,
   "metadata": {},
   "outputs": [],
   "source": []
  }
 ],
 "metadata": {
  "kernelspec": {
   "display_name": "Python 3.8.12 64-bit ('lewagon')",
   "language": "python",
   "name": "python3"
  },
  "language_info": {
   "name": "python",
   "version": "3.8.12"
  },
  "vscode": {
   "interpreter": {
    "hash": "e89340f3d4dc7e79603c529e2241eaf322f7e37ccd53972ed3e1e64fc0322320"
   }
  }
 },
 "nbformat": 4,
 "nbformat_minor": 5
}
